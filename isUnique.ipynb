{
 "cells": [
  {
   "cell_type": "code",
   "execution_count": 22,
   "metadata": {},
   "outputs": [],
   "source": [
    "# Implement an algorithm to determine if a string has all unique characters. \n",
    "# What if you cannot use additional data structures?\n",
    "\n",
    "# output should be: if string contains same characters, then it is False, such as 'hello'\n",
    "# for example, 'abcd' will output True\n",
    "\n",
    "def isUnique(string): \n",
    "    for i in range(0,len(string)): \n",
    "        for j in range(i+1,len(string)):\n",
    "            if string[i]== string[j]:\n",
    "                return False\n",
    "            else:\n",
    "                return True\n",
    "    return True"
   ]
  },
  {
   "cell_type": "code",
   "execution_count": 23,
   "metadata": {
    "scrolled": false
   },
   "outputs": [
    {
     "name": "stdout",
     "output_type": "stream",
     "text": [
      "True\n",
      "False\n",
      "True\n"
     ]
    }
   ],
   "source": [
    "print(isUnique(\"hello\"))\n",
    "print(isUnique(\"aaba\"))\n",
    "print(isUnique(\"abcdef\"))"
   ]
  }
 ],
 "metadata": {
  "kernelspec": {
   "display_name": "Python 3",
   "language": "python",
   "name": "python3"
  },
  "language_info": {
   "codemirror_mode": {
    "name": "ipython",
    "version": 3
   },
   "file_extension": ".py",
   "mimetype": "text/x-python",
   "name": "python",
   "nbconvert_exporter": "python",
   "pygments_lexer": "ipython3",
   "version": "3.7.3"
  }
 },
 "nbformat": 4,
 "nbformat_minor": 2
}
