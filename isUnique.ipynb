{
 "cells": [
  {
   "cell_type": "code",
   "execution_count": 24,
   "metadata": {},
   "outputs": [],
   "source": [
    "# Implement an algorithm to determine if a string has all unique characters. \n",
    "# What if you cannot use additional data structures?\n",
    "\n",
    "# output should be: if string contains same characters, then it is False, such as 'hello'\n",
    "# for example, 'abcd' will output True\n",
    "\n",
    "def isUnique(string): \n",
    "    for i in range(0,len(string)): \n",
    "        for j in range(i+1,len(string)):\n",
    "            if string[i]== string[j]:\n",
    "                return False\n",
    "    return True"
   ]
  },
  {
   "cell_type": "code",
   "execution_count": 26,
   "metadata": {
    "scrolled": false
   },
   "outputs": [
    {
     "name": "stdout",
     "output_type": "stream",
     "text": [
      "False\n",
      "False\n",
      "True\n"
     ]
    }
   ],
   "source": [
    "print(isUnique(\"hello\"))\n",
    "print(isUnique(\"aaba\"))\n",
    "print(isUnique(\"abcdef\"))"
   ]
  },
  {
   "cell_type": "code",
   "execution_count": 68,
   "metadata": {},
   "outputs": [],
   "source": [
    "# Hashmap solution\n",
    "def isUnique(string):\n",
    "    d = {}\n",
    "    for i in range(0,len(string)):\n",
    "        print(d)\n",
    "        if string[i] in d:\n",
    "            return False\n",
    "        d[string[i]] = 1\n",
    "    return True"
   ]
  },
  {
   "cell_type": "code",
   "execution_count": 69,
   "metadata": {
    "scrolled": false
   },
   "outputs": [
    {
     "name": "stdout",
     "output_type": "stream",
     "text": [
      "{}\n",
      "{'h': 1}\n",
      "{'h': 1, 'e': 1}\n",
      "{'h': 1, 'e': 1, 'l': 1}\n",
      "False\n"
     ]
    }
   ],
   "source": [
    "print(isUnique(\"hello\"))"
   ]
  },
  {
   "cell_type": "code",
   "execution_count": 41,
   "metadata": {},
   "outputs": [
    {
     "name": "stdout",
     "output_type": "stream",
     "text": [
      "{'a': 'hello'}\n"
     ]
    }
   ],
   "source": [
    "d = {}\n",
    "d[\"a\"] = 1\n",
    "d[\"a\"] = \"hello\"\n",
    "print(d)"
   ]
  },
  {
   "cell_type": "code",
   "execution_count": 35,
   "metadata": {},
   "outputs": [],
   "source": [
    "if \"hello\" in d:\n",
    "    print(\"true\")"
   ]
  }
 ],
 "metadata": {
  "kernelspec": {
   "display_name": "Python 3",
   "language": "python",
   "name": "python3"
  },
  "language_info": {
   "codemirror_mode": {
    "name": "ipython",
    "version": 3
   },
   "file_extension": ".py",
   "mimetype": "text/x-python",
   "name": "python",
   "nbconvert_exporter": "python",
   "pygments_lexer": "ipython3",
   "version": "3.7.3"
  }
 },
 "nbformat": 4,
 "nbformat_minor": 2
}
